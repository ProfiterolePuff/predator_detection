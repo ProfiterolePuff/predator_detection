{
 "cells": [
  {
   "cell_type": "code",
   "execution_count": 1,
   "metadata": {},
   "outputs": [],
   "source": [
    "import os\n",
    "from pathlib import Path\n",
    "\n",
    "import pandas as pd\n",
    "import numpy as np\n",
    "import matplotlib.pyplot as plt\n",
    "import torch\n",
    "\n",
    "from model import *"
   ]
  },
  {
   "cell_type": "code",
   "execution_count": 2,
   "metadata": {},
   "outputs": [
    {
     "name": "stdout",
     "output_type": "stream",
     "text": [
      "Size of dataframe 0 is (64185, 9)\n",
      "Size of dataframe 1 is (63204, 9)\n",
      "Size of dataframe 2 is (48597, 9)\n",
      "Size of dataframe 3 is (64454, 9)\n",
      "April_8 data has been read\n",
      "Size of dataframe 0 is (65571, 9)\n",
      "Size of dataframe 1 is (64568, 9)\n",
      "Size of dataframe 2 is (65350, 9)\n",
      "Size of dataframe 3 is (66627, 9)\n",
      "April_9 data has been read\n",
      "Size of dataframe 0 is (65571, 9)\n",
      "Size of dataframe 1 is (64568, 9)\n",
      "Size of dataframe 2 is (65350, 9)\n",
      "Size of dataframe 3 is (66627, 9)\n",
      "April_10 data has been read\n",
      "Size of dataframe 0 is (49762, 9)\n",
      "Size of dataframe 1 is (61376, 9)\n",
      "Size of dataframe 2 is (59725, 9)\n",
      "Size of dataframe 3 is (61151, 9)\n",
      "April_11 data has been read\n"
     ]
    }
   ],
   "source": [
    "from data import *"
   ]
  },
  {
   "cell_type": "code",
   "execution_count": 3,
   "metadata": {},
   "outputs": [],
   "source": [
    "from sklearn.metrics import confusion_matrix, ConfusionMatrixDisplay\n",
    "def get_cf_matrix(model, X_test, y_test, threshold):\n",
    "    pred = model(X_test.to(DEVICE))\n",
    "    pred_rounded = np.where(pred.cpu().detach().numpy() > threshold, 1, 0)\n",
    "    # torch.sum(torch.from_numpy(pred_rounded) == y_test).item() / y_test.shape[0] # accuracy\n",
    "    cf_matrix = confusion_matrix(y_test.cpu().detach(), torch.from_numpy(pred_rounded))\n",
    "    return cf_matrix"
   ]
  },
  {
   "cell_type": "code",
   "execution_count": 4,
   "metadata": {},
   "outputs": [],
   "source": [
    "def plot_cf_plots(cf_matrices, dates, file_name = None):\n",
    "\n",
    "    plot_size = (2,2)\n",
    "\n",
    "    fig, axs = plt.subplots(plot_size[0], plot_size[1], figsize=(plot_size[1] * 3.4 + 0.1 * plot_size[1] , plot_size[0] * 3.4 + 0.1 * plot_size[0]))\n",
    "\n",
    "    i = 0\n",
    "    for j in range(plot_size[0]):\n",
    "        for k in range(plot_size[1]):\n",
    "            \n",
    "            curr_axs = axs[j, k]\n",
    "            ConfusionMatrixDisplay(cf_matrices[i]).plot(ax=curr_axs, colorbar= False)\n",
    "            curr_axs.set_title(dates[i].replace(\"_\", \" \"))\n",
    "            if k == 1:\n",
    "                curr_axs.set_ylabel(None)\n",
    "            if j == 0:\n",
    "                curr_axs.set_xlabel(None)\n",
    "    \n",
    "            i += 1\n",
    "        \n",
    "    if file_name != None:\n",
    "        plt.savefig(file_name, bbox_inches=\"tight\")\n",
    "\n",
    "    plt.show()"
   ]
  },
  {
   "cell_type": "code",
   "execution_count": 5,
   "metadata": {},
   "outputs": [],
   "source": [
    "# DATES = [\"April_8\", \"April_9\", \"April_10\", \"April_11\"]\n",
    "cf_matrices = []\n",
    "cnn_models = []\n",
    "for d_ind in range(4):\n",
    "    X_train, X_valid, X_test, y_train, y_valid, y_test, _, _ = preprocess_one_day_data(d_ind, WINDOW_SIZE, VALID_PER, TEST_PER, True, False)\n",
    "\n",
    "    cnn_model, cnn_losses = grid_search_cnn_control(X_train, X_valid, y_train, y_valid, THRESHOLD)\n",
    "    cnn_models.append(cnn_models)\n",
    "\n",
    "    cf_matrix = get_cf_matrix(cnn_model, X_test, y_test, THRESHOLD)\n",
    "    cf_matrices.append(cf_matrix)"
   ]
  },
  {
   "cell_type": "code",
   "execution_count": 8,
   "metadata": {},
   "outputs": [
    {
     "data": {
      "image/png": "[encoded data removed]",
      "text/plain": [
       "<Figure size 700x700 with 4 Axes>"
      ]
     },
     "metadata": {},
     "output_type": "display_data"
    }
   ],
   "source": [
    "plot_cf_plots(cf_matrices, DATES, \"cf_cnn.png\")"
   ]
  }
 ],
 "metadata": {
  "kernelspec": {
   "display_name": "aml_ts_01",
   "language": "python",
   "name": "python3"
  },
  "language_info": {
   "codemirror_mode": {
    "name": "ipython",
    "version": 3
   },
   "file_extension": ".py",
   "mimetype": "text/x-python",
   "name": "python",
   "nbconvert_exporter": "python",
   "pygments_lexer": "ipython3",
   "version": "3.9.16"
  }
 },
 "nbformat": 4,
 "nbformat_minor": 2
}
